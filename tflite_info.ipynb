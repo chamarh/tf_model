{
 "cells": [
  {
   "cell_type": "code",
   "execution_count": 1,
   "id": "28e1cb26",
   "metadata": {},
   "outputs": [],
   "source": [
    "import tensorflow as tf\n"
   ]
  },
  {
   "cell_type": "code",
   "execution_count": 2,
   "id": "8ccc1591",
   "metadata": {},
   "outputs": [],
   "source": [
    "interpreter = tf.lite.Interpreter(model_path=\"saved_model.tflite\")\n",
    "interpreter.allocate_tensors()"
   ]
  },
  {
   "cell_type": "code",
   "execution_count": 7,
   "id": "a79708f0",
   "metadata": {},
   "outputs": [],
   "source": [
    "input_details = interpreter.get_input_details()\n",
    "output_details = interpreter.get_output_details()\n"
   ]
  },
  {
   "cell_type": "code",
   "execution_count": 17,
   "id": "abb94766",
   "metadata": {
    "scrolled": true
   },
   "outputs": [
    {
     "name": "stdout",
     "output_type": "stream",
     "text": [
      "== Input details ==\n",
      "name: dense_1132_input\n",
      "shape: [   1 2000]\n",
      "type: <class 'numpy.float32'>\n",
      "\n",
      "== Output details ==\n",
      "name: Identity\n",
      "shape: [1 1]\n",
      "type: <class 'numpy.float32'>\n"
     ]
    }
   ],
   "source": [
    "print(\"== Input details ==\")\n",
    "print(\"name:\", input_details[0]['name'])\n",
    "print(\"shape:\", input_details[0]['shape'])\n",
    "print(\"type:\", input_details[0]['dtype'])\n",
    "print(\"\\n== Output details ==\")\n",
    "print(\"name:\", output_details[0]['name'])\n",
    "print(\"shape:\", output_details[0]['shape'])\n",
    "print(\"type:\", output_details[0]['dtype'])\n"
   ]
  },
  {
   "cell_type": "code",
   "execution_count": 8,
   "id": "6d99e510",
   "metadata": {},
   "outputs": [
    {
     "name": "stdout",
     "output_type": "stream",
     "text": [
      "[{'name': 'dense_1132_input', 'index': 0, 'shape': array([   1, 2000]), 'shape_signature': array([   1, 2000]), 'dtype': <class 'numpy.float32'>, 'quantization': (0.0, 0), 'quantization_parameters': {'scales': array([], dtype=float32), 'zero_points': array([], dtype=int32), 'quantized_dimension': 0}, 'sparsity_parameters': {}}]\n"
     ]
    }
   ],
   "source": [
    "print(input_details)"
   ]
  },
  {
   "cell_type": "code",
   "execution_count": 9,
   "id": "fca60e03",
   "metadata": {},
   "outputs": [
    {
     "name": "stdout",
     "output_type": "stream",
     "text": [
      "[{'name': 'Identity', 'index': 7, 'shape': array([1, 1]), 'shape_signature': array([1, 1]), 'dtype': <class 'numpy.float32'>, 'quantization': (0.0, 0), 'quantization_parameters': {'scales': array([], dtype=float32), 'zero_points': array([], dtype=int32), 'quantized_dimension': 0}, 'sparsity_parameters': {}}]\n"
     ]
    }
   ],
   "source": [
    "print(output_details)"
   ]
  },
  {
   "cell_type": "code",
   "execution_count": 3,
   "id": "21c03418",
   "metadata": {},
   "outputs": [],
   "source": [
    "# get details for each layer\n",
    "all_layers_details = interpreter.get_tensor_details() "
   ]
  },
  {
   "cell_type": "code",
   "execution_count": 15,
   "id": "ee9045e1",
   "metadata": {
    "scrolled": true
   },
   "outputs": [
    {
     "name": "stdout",
     "output_type": "stream",
     "text": [
      "{'name': 'dense_1132_input', 'index': 0, 'shape': array([   1, 2000]), 'shape_signature': array([   1, 2000]), 'dtype': <class 'numpy.float32'>, 'quantization': (0.0, 0), 'quantization_parameters': {'scales': array([], dtype=float32), 'zero_points': array([], dtype=int32), 'quantized_dimension': 0}, 'sparsity_parameters': {}}\n",
      "--------------------------------------------------------------------------------------------------\n",
      "{'name': 'StatefulPartitionedCall/sequential_663/dense_1132/BiasAdd/ReadVariableOp', 'index': 1, 'shape': array([32]), 'shape_signature': array([32]), 'dtype': <class 'numpy.float32'>, 'quantization': (0.0, 0), 'quantization_parameters': {'scales': array([], dtype=float32), 'zero_points': array([], dtype=int32), 'quantized_dimension': 0}, 'sparsity_parameters': {}}\n",
      "--------------------------------------------------------------------------------------------------\n",
      "{'name': 'StatefulPartitionedCall/sequential_663/dense_1133/BiasAdd/ReadVariableOp', 'index': 2, 'shape': array([1]), 'shape_signature': array([1]), 'dtype': <class 'numpy.float32'>, 'quantization': (0.0, 0), 'quantization_parameters': {'scales': array([], dtype=float32), 'zero_points': array([], dtype=int32), 'quantized_dimension': 0}, 'sparsity_parameters': {}}\n",
      "--------------------------------------------------------------------------------------------------\n",
      "{'name': 'sequential_663/dense_1132/MatMul@__inference__wrapped_model_31355771', 'index': 3, 'shape': array([  32, 2000]), 'shape_signature': array([  32, 2000]), 'dtype': <class 'numpy.float32'>, 'quantization': (0.0, 0), 'quantization_parameters': {'scales': array([], dtype=float32), 'zero_points': array([], dtype=int32), 'quantized_dimension': 0}, 'sparsity_parameters': {}}\n",
      "--------------------------------------------------------------------------------------------------\n",
      "{'name': 'sequential_663/dense_1133/MatMul@__inference__wrapped_model_31355771', 'index': 4, 'shape': array([ 1, 32]), 'shape_signature': array([ 1, 32]), 'dtype': <class 'numpy.float32'>, 'quantization': (0.0, 0), 'quantization_parameters': {'scales': array([], dtype=float32), 'zero_points': array([], dtype=int32), 'quantized_dimension': 0}, 'sparsity_parameters': {}}\n",
      "--------------------------------------------------------------------------------------------------\n",
      "{'name': 'sequential_663/dense_1132/Relu@__inference__wrapped_model_31355771', 'index': 5, 'shape': array([ 1, 32]), 'shape_signature': array([ 1, 32]), 'dtype': <class 'numpy.float32'>, 'quantization': (0.0, 0), 'quantization_parameters': {'scales': array([], dtype=float32), 'zero_points': array([], dtype=int32), 'quantized_dimension': 0}, 'sparsity_parameters': {}}\n",
      "--------------------------------------------------------------------------------------------------\n",
      "{'name': 'sequential_663/dense_1133/BiasAdd@__inference__wrapped_model_31355771', 'index': 6, 'shape': array([1, 1]), 'shape_signature': array([1, 1]), 'dtype': <class 'numpy.float32'>, 'quantization': (0.0, 0), 'quantization_parameters': {'scales': array([], dtype=float32), 'zero_points': array([], dtype=int32), 'quantized_dimension': 0}, 'sparsity_parameters': {}}\n",
      "--------------------------------------------------------------------------------------------------\n",
      "{'name': 'Identity', 'index': 7, 'shape': array([1, 1]), 'shape_signature': array([1, 1]), 'dtype': <class 'numpy.float32'>, 'quantization': (0.0, 0), 'quantization_parameters': {'scales': array([], dtype=float32), 'zero_points': array([], dtype=int32), 'quantized_dimension': 0}, 'sparsity_parameters': {}}\n",
      "--------------------------------------------------------------------------------------------------\n"
     ]
    }
   ],
   "source": [
    "for layer in all_layers_details:\n",
    "    print(layer)\n",
    "    print(\"--------------------------------------------------------------------------------------------------\")"
   ]
  },
  {
   "cell_type": "code",
   "execution_count": null,
   "id": "cb49d701",
   "metadata": {},
   "outputs": [],
   "source": []
  }
 ],
 "metadata": {
  "kernelspec": {
   "display_name": "Python 3",
   "language": "python",
   "name": "python3"
  },
  "language_info": {
   "codemirror_mode": {
    "name": "ipython",
    "version": 3
   },
   "file_extension": ".py",
   "mimetype": "text/x-python",
   "name": "python",
   "nbconvert_exporter": "python",
   "pygments_lexer": "ipython3",
   "version": "3.8.8"
  }
 },
 "nbformat": 4,
 "nbformat_minor": 5
}
